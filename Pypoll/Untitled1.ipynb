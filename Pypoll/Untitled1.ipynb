{
 "cells": [
  {
   "cell_type": "code",
   "execution_count": 1,
   "metadata": {},
   "outputs": [
    {
     "name": "stdout",
     "output_type": "stream",
     "text": [
      "After placing CSV file in the raw_data folder, please input name of file (including .csv for example election_data_1.csv)election_data_1.csv\n"
     ]
    }
   ],
   "source": [
    "import csv\n",
    "\n",
    "#get an input of the csv file\n",
    "text = input(\"After placing CSV file in the raw_data folder, please input name of file (including .csv for example election_data_1.csv)\")"
   ]
  },
  {
   "cell_type": "code",
   "execution_count": 2,
   "metadata": {},
   "outputs": [],
   "source": [
    "csvpath = \"raw_data/\" + text\n",
    "\n",
    "vid = []\n",
    "county = []\n",
    "candidate = []"
   ]
  },
  {
   "cell_type": "code",
   "execution_count": 5,
   "metadata": {},
   "outputs": [
    {
     "name": "stdout",
     "output_type": "stream",
     "text": [
      "```\n",
      "Election Results\n",
      "-------------------------\n",
      "Total Votes: 2409000\n",
      "-------------------------\n",
      "Vestal: 48.0% (1156320)\n",
      "Seth: 5.0% (120450)\n",
      "Cordin: 3.0% (72270)\n",
      "Torres: 44.0% (1059960)\n",
      "-------------------------\n",
      "Winner: Vestal\n",
      "-------------------------\n",
      "```\n"
     ]
    }
   ],
   "source": [
    "#iterate through the csv file\n",
    "with open(csvpath, newline='') as vdata:\n",
    "    read = csv.reader(vdata, delimiter=',')\n",
    "    next(read)\n",
    "    for column in read:\n",
    "        vid.append(column[0])\n",
    "        county.append(column[1])\n",
    "        candidate.append(column[2])\n",
    "\n",
    "#get total votes, unique candidates, calculate winner    \n",
    "totvotes = len(vid)\n",
    "totcandidates = list(set(candidate))\n",
    "win = max(set(candidate),key=candidate.count)\n",
    "\n",
    "#Printing to terminal\n",
    "print(\"```\")\n",
    "print(\"Election Results\")\n",
    "print(\"-------------------------\")\n",
    "print(f'Total Votes: {totvotes}')\n",
    "print(\"-------------------------\")\n",
    "for x in range(len(totcandidates)):\n",
    "    name = totcandidates[x]\n",
    "    pvotes = (candidate.count(totcandidates[x]) * 100) / totvotes\n",
    "    votesper = candidate.count(totcandidates[x])\n",
    "    print(f\"{name}: {pvotes}% ({votesper})\")\n",
    "print(\"-------------------------\")\n",
    "print(f\"Winner: {win}\")\n",
    "print(\"-------------------------\")\n",
    "print(\"```\")\n"
   ]
  },
  {
   "cell_type": "code",
   "execution_count": null,
   "metadata": {},
   "outputs": [],
   "source": []
  },
  {
   "cell_type": "code",
   "execution_count": null,
   "metadata": {},
   "outputs": [],
   "source": []
  }
 ],
 "metadata": {
  "kernelspec": {
   "display_name": "Python 3",
   "language": "python",
   "name": "python3"
  },
  "language_info": {
   "codemirror_mode": {
    "name": "ipython",
    "version": 3
   },
   "file_extension": ".py",
   "mimetype": "text/x-python",
   "name": "python",
   "nbconvert_exporter": "python",
   "pygments_lexer": "ipython3",
   "version": "3.6.4"
  }
 },
 "nbformat": 4,
 "nbformat_minor": 2
}
